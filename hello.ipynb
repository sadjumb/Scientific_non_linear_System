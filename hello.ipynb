{
 "cells": [
  {
   "cell_type": "code",
   "execution_count": 19,
   "id": "207628f0",
   "metadata": {},
   "outputs": [],
   "source": [
    "import numpy as np\n",
    "import matplotlib.pyplot as plt\n",
    "from scipy.integrate import odeint\n",
    "from scipy import sparse\n"
   ]
  },
  {
   "cell_type": "code",
   "execution_count": 20,
   "id": "96a9d8c2",
   "metadata": {},
   "outputs": [],
   "source": [
    "rho = 28.0\n",
    "sigma = 10.0\n",
    "beta = 8.0 / 3.0\n",
    "dt = 0.01"
   ]
  },
  {
   "cell_type": "code",
   "execution_count": 21,
   "id": "786b5272",
   "metadata": {},
   "outputs": [],
   "source": [
    "def f(state, t): #функция\n",
    "    x, y, z = state\n",
    "    return sigma * (y - x), x * (rho - z) - y, x * y - beta * z"
   ]
  },
  {
   "cell_type": "code",
   "execution_count": 22,
   "id": "2ab78e2c",
   "metadata": {},
   "outputs": [],
   "source": [
    "x_train_length = 40.0 #<-- здесь выбираем, от 0 до каких пор знаем реальные значения\n",
    "sequence_length = 4000  #<-- здесь выбираем, от 0 до каких пор тренируемся\n",
    "x_sim_length = int(x_train_length/dt) #<-- здесь выбираем, от 0 до каких пор предсказываем"
   ]
  },
  {
   "cell_type": "code",
   "execution_count": 23,
   "id": "37bef560",
   "metadata": {},
   "outputs": [],
   "source": [
    "state0 = [1.0, 1.0, 1.0]\n",
    "time_steps = np.arange(0.0, x_train_length, dt) #<-- здесь выбираем, от 0 до каких пор знаем реальные значения"
   ]
  },
  {
   "cell_type": "code",
   "execution_count": 24,
   "id": "b528dbfb",
   "metadata": {},
   "outputs": [],
   "source": [
    "x_train = odeint(f, state0, time_steps)"
   ]
  },
  {
   "cell_type": "code",
   "execution_count": 25,
   "id": "cc9322f5",
   "metadata": {},
   "outputs": [],
   "source": [
    "radius = 0.6\n",
    "sparsity = 0.01\n",
    "input_dim = 3\n",
    "reservoir_size = 1000\n",
    "n_steps_prerun = 10\n",
    "regularization = 1e-2\n",
    "sequence = [x_train[i] for i in range(sequence_length)] #<-- здесь выбираем, от 0 до каких пор тренируемся\n"
   ]
  },
  {
   "cell_type": "code",
   "execution_count": 26,
   "id": "fe2f947e",
   "metadata": {},
   "outputs": [
    {
     "name": "stdout",
     "output_type": "stream",
     "text": [
      "  (253, 617)\t0.0006626158778592925\n",
      "  (738, 770)\t0.04149219902306558\n",
      "  (881, 103)\t0.08395191890339454\n",
      "  (736, 952)\t0.0417361651185907\n",
      "  (508, 993)\t0.08817425579408157\n",
      "  (218, 176)\t0.02001736915214371\n",
      "  (848, 385)\t0.1105914160256366\n",
      "  (512, 456)\t0.0004654624250354434\n",
      "  (441, 409)\t0.03920745682402343\n",
      "  (947, 293)\t0.0745175261757578\n",
      "  (129, 376)\t0.078601401561823\n",
      "  (805, 14)\t0.11334504572536684\n",
      "  (951, 791)\t0.008385484683019969\n",
      "  (103, 246)\t0.07023967209119328\n",
      "  (335, 24)\t0.0673599932117078\n",
      "  (914, 184)\t0.08655943819998525\n",
      "  (892, 308)\t0.03692840317088535\n",
      "  (351, 246)\t0.04169905068336078\n",
      "  (253, 215)\t0.012284346101422396\n",
      "  (514, 392)\t0.03293631553857973\n",
      "  (238, 624)\t0.008924333597498564\n",
      "  (703, 949)\t0.11520967566275557\n",
      "  (154, 96)\t0.08197721769826918\n",
      "  (799, 898)\t0.024485006576638213\n",
      "  (111, 584)\t0.0706786031624271\n",
      "  :\t:\n",
      "  (829, 177)\t0.040705556734038806\n",
      "  (894, 222)\t0.09120628991159817\n",
      "  (337, 10)\t0.041910846134915254\n",
      "  (77, 532)\t0.09291310142196925\n",
      "  (131, 547)\t0.018721647668575987\n",
      "  (898, 765)\t0.08389122750884179\n",
      "  (404, 43)\t0.060438421752654195\n",
      "  (546, 286)\t0.029811356774776147\n",
      "  (725, 204)\t0.06518036669836501\n",
      "  (45, 639)\t0.0859932203116869\n",
      "  (509, 236)\t0.01579476966860829\n",
      "  (752, 388)\t0.05954432934284684\n",
      "  (149, 418)\t0.06834338216558694\n",
      "  (923, 487)\t0.10314857061047067\n",
      "  (486, 873)\t0.006107099204593269\n",
      "  (333, 80)\t0.04858638418302077\n",
      "  (816, 525)\t0.03944838293224\n",
      "  (55, 63)\t0.0006144031510437426\n",
      "  (80, 480)\t0.009413285405682722\n",
      "  (126, 357)\t0.011385882209551624\n",
      "  (48, 530)\t0.09364053496959782\n",
      "  (410, 354)\t0.05291332760338618\n",
      "  (180, 54)\t0.03019556567082556\n",
      "  (342, 542)\t0.10908582253562649\n",
      "  (357, 199)\t0.08561509429916073\n"
     ]
    }
   ],
   "source": [
    "weights_hidden = sparse.random(reservoir_size, reservoir_size, density=sparsity)\n",
    "eigenvalues, _ = sparse.linalg.eigs(weights_hidden)\n",
    "weights_hidden = weights_hidden / np.max(np.abs(eigenvalues)) * radius\n",
    "print(weights_hidden)"
   ]
  },
  {
   "cell_type": "code",
   "execution_count": 27,
   "id": "69291f21",
   "metadata": {},
   "outputs": [
    {
     "name": "stdout",
     "output_type": "stream",
     "text": [
      "coo\n"
     ]
    }
   ],
   "source": [
    "print(weights_hidden.getformat())"
   ]
  },
  {
   "cell_type": "code",
   "execution_count": 18,
   "id": "3fc49ec0",
   "metadata": {},
   "outputs": [
    {
     "name": "stdout",
     "output_type": "stream",
     "text": [
      "[760 980 543 ... 177 648 813]\n",
      "[605 215 542 ... 332 201  14]\n",
      "[0.10383047 0.01863363 0.11788025 ... 0.07393816 0.07434765 0.1102559 ]\n",
      "(1000, 1000)\n"
     ]
    }
   ],
   "source": [
    "print(weights_hidden.row)\n",
    "print(weights_hidden.col)\n",
    "print(weights_hidden.data)\n",
    "print(weights_hidden.shape)"
   ]
  },
  {
   "cell_type": "code",
   "execution_count": 10,
   "id": "80f7fea1",
   "metadata": {},
   "outputs": [],
   "source": [
    "save_weight = []"
   ]
  },
  {
   "cell_type": "code",
   "execution_count": 11,
   "id": "9ab81a1f",
   "metadata": {},
   "outputs": [
    {
     "name": "stdout",
     "output_type": "stream",
     "text": [
      "[[[array([568, 889, 142, ..., 865,  50, 454]), array([481, 645, 567, ..., 224, 388, 936], dtype=int32)], array([0.04595271, 0.07905419, 0.10229524, ..., 0.0305243 , 0.00894105,\n",
      "       0.07577467])]]\n"
     ]
    }
   ],
   "source": [
    "save_weight.append([[weights_hidden.row, weights_hidden.col], weights_hidden.data])\n",
    "\n",
    "print(save_weight)"
   ]
  },
  {
   "cell_type": "code",
   "execution_count": 12,
   "id": "73a6ff64",
   "metadata": {},
   "outputs": [
    {
     "ename": "IndentationError",
     "evalue": "expected an indented block (3807949526.py, line 3)",
     "output_type": "error",
     "traceback": [
      "\u001b[1;36m  File \u001b[1;32m\"C:\\Users\\nicks\\AppData\\Local\\Temp\\ipykernel_2872\\3807949526.py\"\u001b[1;36m, line \u001b[1;32m3\u001b[0m\n\u001b[1;33m    \u001b[0m\n\u001b[1;37m    ^\u001b[0m\n\u001b[1;31mIndentationError\u001b[0m\u001b[1;31m:\u001b[0m expected an indented block\n"
     ]
    }
   ],
   "source": [
    "inpMatr = [[], ]\n",
    "for i in len(weights_hidden):\n",
    "    "
   ]
  },
  {
   "cell_type": "code",
   "execution_count": null,
   "id": "980ba25e",
   "metadata": {},
   "outputs": [],
   "source": [
    "weights_hidden.toarray()"
   ]
  },
  {
   "cell_type": "code",
   "execution_count": null,
   "id": "2dd380f8",
   "metadata": {},
   "outputs": [],
   "source": [
    "ymo = {(123, 324): 324, 4564:54}"
   ]
  },
  {
   "cell_type": "code",
   "execution_count": null,
   "id": "3d9424b8",
   "metadata": {},
   "outputs": [],
   "source": [
    "print(ymo)"
   ]
  },
  {
   "cell_type": "code",
   "execution_count": null,
   "id": "6a595136",
   "metadata": {},
   "outputs": [],
   "source": []
  }
 ],
 "metadata": {
  "kernelspec": {
   "display_name": "Python 3 (ipykernel)",
   "language": "python",
   "name": "python3"
  },
  "language_info": {
   "codemirror_mode": {
    "name": "ipython",
    "version": 3
   },
   "file_extension": ".py",
   "mimetype": "text/x-python",
   "name": "python",
   "nbconvert_exporter": "python",
   "pygments_lexer": "ipython3",
   "version": "3.9.13"
  }
 },
 "nbformat": 4,
 "nbformat_minor": 5
}
